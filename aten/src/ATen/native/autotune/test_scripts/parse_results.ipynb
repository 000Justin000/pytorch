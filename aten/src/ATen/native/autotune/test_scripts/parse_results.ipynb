{
 "cells": [
  {
   "cell_type": "code",
   "execution_count": 212,
   "metadata": {},
   "outputs": [
    {
     "data": {
      "text/html": [
       "<style>.container { width:100% !important; }</style>"
      ],
      "text/plain": [
       "<IPython.core.display.HTML object>"
      ]
     },
     "metadata": {
      "bento_obj_id": "140350607470160"
     },
     "output_type": "display_data"
    }
   ],
   "source": [
    "from collections import defaultdict, Counter\n",
    "\n",
    "import numpy as np\n",
    "import matplotlib.pyplot as plt\n",
    "\n",
    "from IPython.core.display import display, HTML\n",
    "display(HTML(\"<style>.container { width:100% !important; }</style>\"))"
   ]
  },
  {
   "cell_type": "code",
   "execution_count": 213,
   "metadata": {},
   "outputs": [
    {
     "ename": "FileNotFoundError",
     "evalue": "[Errno 2] No such file or directory: '/data/users/taylorrobie/repos/pytorch/aten/src/ATen/native/autotune/test_scripts/results.txt'",
     "output_type": "error",
     "traceback": [
      "\u001b[0;31m---------------------------------------------------------------------------\u001b[0m",
      "\u001b[0;31mFileNotFoundError\u001b[0m                         Traceback (most recent call last)",
      "\u001b[0;32m<ipython-input-213-5ff96e217542>\u001b[0m in \u001b[0;36m<module>\u001b[0;34m\u001b[0m\n\u001b[1;32m      7\u001b[0m \u001b[0mall_shapes_set\u001b[0m \u001b[0;34m=\u001b[0m \u001b[0mset\u001b[0m\u001b[0;34m(\u001b[0m\u001b[0;34m)\u001b[0m\u001b[0;34m\u001b[0m\u001b[0;34m\u001b[0m\u001b[0m\n\u001b[1;32m      8\u001b[0m \u001b[0mall_shapes\u001b[0m \u001b[0;34m=\u001b[0m \u001b[0;34m[\u001b[0m\u001b[0;34m]\u001b[0m\u001b[0;34m\u001b[0m\u001b[0;34m\u001b[0m\u001b[0m\n\u001b[0;32m----> 9\u001b[0;31m \u001b[0;32mwith\u001b[0m \u001b[0mopen\u001b[0m\u001b[0;34m(\u001b[0m\u001b[0mresults_path\u001b[0m\u001b[0;34m,\u001b[0m \u001b[0;34m\"rt\"\u001b[0m\u001b[0;34m)\u001b[0m \u001b[0;32mas\u001b[0m \u001b[0mf\u001b[0m\u001b[0;34m:\u001b[0m\u001b[0;34m\u001b[0m\u001b[0;34m\u001b[0m\u001b[0m\n\u001b[0m\u001b[1;32m     10\u001b[0m     \u001b[0;32mfor\u001b[0m \u001b[0mi\u001b[0m\u001b[0;34m,\u001b[0m \u001b[0ml\u001b[0m \u001b[0;32min\u001b[0m \u001b[0menumerate\u001b[0m\u001b[0;34m(\u001b[0m\u001b[0mf\u001b[0m\u001b[0;34m)\u001b[0m\u001b[0;34m:\u001b[0m\u001b[0;34m\u001b[0m\u001b[0;34m\u001b[0m\u001b[0m\n\u001b[1;32m     11\u001b[0m         \u001b[0mbandit\u001b[0m\u001b[0;34m,\u001b[0m \u001b[0mshapes\u001b[0m\u001b[0;34m,\u001b[0m \u001b[0mimpl\u001b[0m\u001b[0;34m,\u001b[0m \u001b[0mrun_time\u001b[0m \u001b[0;34m=\u001b[0m \u001b[0;34m[\u001b[0m\u001b[0mi\u001b[0m\u001b[0;34m.\u001b[0m\u001b[0mstrip\u001b[0m\u001b[0;34m(\u001b[0m\u001b[0;34m)\u001b[0m \u001b[0;32mfor\u001b[0m \u001b[0mi\u001b[0m \u001b[0;32min\u001b[0m \u001b[0ml\u001b[0m\u001b[0;34m.\u001b[0m\u001b[0mstrip\u001b[0m\u001b[0;34m(\u001b[0m\u001b[0;34m)\u001b[0m\u001b[0;34m.\u001b[0m\u001b[0msplit\u001b[0m\u001b[0;34m(\u001b[0m\u001b[0;34m\"    \"\u001b[0m\u001b[0;34m)\u001b[0m\u001b[0;34m]\u001b[0m\u001b[0;34m\u001b[0m\u001b[0;34m\u001b[0m\u001b[0m\n",
      "\u001b[0;31mFileNotFoundError\u001b[0m: [Errno 2] No such file or directory: '/data/users/taylorrobie/repos/pytorch/aten/src/ATen/native/autotune/test_scripts/results.txt'"
     ]
    }
   ],
   "source": [
    "results_path = \"/data/users/taylorrobie/repos/pytorch/aten/src/ATen/native/autotune/test_scripts/results.txt\"\n",
    "NATIVE = \"Conv2D_Native\"\n",
    "NNPACK = \"Conv2D_NNPack\"\n",
    "MKL = \"Conv2D_MKL\"\n",
    "\n",
    "results = defaultdict(lambda: defaultdict(lambda: defaultdict(list)))\n",
    "all_shapes_set = set()\n",
    "all_shapes = []\n",
    "with open(results_path, \"rt\") as f:\n",
    "    for i, l in enumerate(f):\n",
    "        bandit, shapes, impl, run_time = [i.strip() for i in l.strip().split(\"    \")]\n",
    "        \n",
    "        if shapes not in all_shapes_set:\n",
    "            all_shapes.append(shapes)\n",
    "            all_shapes_set.add(shapes)\n",
    "            \n",
    "        results[bandit][shapes][impl].append((i, int(run_time)))\n"
   ]
  },
  {
   "cell_type": "code",
   "execution_count": null,
   "metadata": {
    "scrolled": true
   },
   "outputs": [],
   "source": [
    "window = 100\n",
    "fig=plt.figure(figsize=(24, 96), dpi= 80, facecolor='w', edgecolor='k')\n",
    "\n",
    "# BANDIT = \"DrunkenBandit\"\n",
    "BANDIT = \"GaussianBandit\"\n",
    "for shape_choice in range(16):\n",
    "    plt.subplot(8, 2, shape_choice + 1)\n",
    "    shape_str = all_shapes[shape_choice]\n",
    "    \n",
    "    r_by_impl = {\n",
    "        impl : [ri for ri in results[BANDIT][shape_str][impl]]\n",
    "        for impl in [NATIVE, NNPACK, MKL]\n",
    "    }\n",
    "    raw_x_ind = []\n",
    "    for r in r_by_impl.values():\n",
    "        raw_x_ind.extend([ri[0] for ri in r])\n",
    "    raw_x_ind.sort()\n",
    "    x_ind_map = {xi: i for i, xi in enumerate(raw_x_ind)}\n",
    "    color_map = {NATIVE: \"k\", NNPACK: \"b\", MKL: \"g\"}\n",
    "    lower_bound, upper_bound = 1e10, 0\n",
    "    \n",
    "    for impl, r in r_by_impl.items():\n",
    "        x = np.array([x_ind_map[xi] for xi, _ in r])\n",
    "        y = np.array([yi * 1e-3 for _, yi in r])\n",
    "        n = len(r)\n",
    "        \n",
    "        running_mean, running_std = [], []\n",
    "        for i in range(n):\n",
    "            y_subset = y[max(0, i + 1 - window):i + 1]\n",
    "            running_mean.append(np.mean(y_subset))\n",
    "            running_std.append(np.std(y_subset))\n",
    "        running_mean, running_std = np.array(running_mean), np.mean(running_std)\n",
    "        y_lower = running_mean - running_std * 2\n",
    "        y_upper = running_mean + running_std * 2\n",
    "        \n",
    "        lower_bound = min(lower_bound, np.min(y_lower[3:]))\n",
    "        upper_bound = max(upper_bound, np.max(y_upper[3:]))\n",
    "\n",
    "        color = color_map[impl]\n",
    "        plt.plot(x, y, \".\" + color, markersize=5)\n",
    "        plt.plot(x, running_mean, color, linewidth=2)\n",
    "        plt.fill_between(x, y_lower, y_upper, facecolor=color, alpha=0.3)\n",
    "    plt.title(shape_str.replace(\"Convolution: \", \"\"), fontdict={\"fontsize\": 12})\n",
    "    plt.ylim(bottom=lower_bound, top=upper_bound)\n"
   ]
  },
  {
   "cell_type": "raw",
   "metadata": {},
   "source": []
  },
  {
   "cell_type": "code",
   "execution_count": null,
   "metadata": {
    "collapsed": true
   },
   "outputs": [],
   "source": []
  }
 ],
 "metadata": {
  "bento_stylesheets": {
   "bento/extensions/flow/main.css": true,
   "bento/extensions/kernel_selector/main.css": true,
   "bento/extensions/kernel_ui/main.css": true,
   "bento/extensions/new_kernel/main.css": true,
   "bento/extensions/system_usage/main.css": true,
   "bento/extensions/theme/main.css": true
  },
  "disseminate_notebook_id": {
   "notebook_id": "712144446293803"
  },
  "disseminate_notebook_info": {
   "bento_version": "20200720-150132",
   "description": "",
   "hide_code": false,
   "hipster_group": "",
   "kernel_build_info": {
    "deps": [],
    "external_deps": []
   },
   "no_uii": true,
   "notebook_number": "313808",
   "others_can_edit": false,
   "reviewers": "",
   "revision_id": "765056484260798",
   "tags": "",
   "tasks": "",
   "title": "parse_results"
  },
  "kernelspec": {
   "display_name": "Python 3",
   "language": "python",
   "name": "bento_kernel_default"
  },
  "language_info": {
   "codemirror_mode": {
    "name": "ipython",
    "version": 3
   },
   "file_extension": ".py",
   "mimetype": "text/x-python",
   "name": "python",
   "nbconvert_exporter": "python",
   "pygments_lexer": "ipython3",
   "version": "3.7.5+"
  }
 },
 "nbformat": 4,
 "nbformat_minor": 2
}
